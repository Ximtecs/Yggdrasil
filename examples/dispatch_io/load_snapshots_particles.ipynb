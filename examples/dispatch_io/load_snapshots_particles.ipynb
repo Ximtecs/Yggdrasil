{
 "cells": [
  {
   "cell_type": "code",
   "execution_count": 1,
   "id": "79357bd9",
   "metadata": {},
   "outputs": [],
   "source": [
    "include(\"../../src/Yggdrasil.jl\")\n",
    "using .Yggdrasil"
   ]
  },
  {
   "cell_type": "code",
   "execution_count": 11,
   "id": "90978cec",
   "metadata": {},
   "outputs": [],
   "source": [
    "data_folder = \"../example_data/test_01/\"\n",
    "#--------------- define which snapshot to load ---------------\n",
    "i_start = 110   # Start snapshot index\n",
    "i_end  = 110    # End snapshot index\n",
    "stride = 1      # Stride - how many snapshots to skip between loads\n",
    "n_snaps = Int(floor( (i_end - i_start) / stride) + 1);  # total number of snapshots to load"
   ]
  },
  {
   "cell_type": "markdown",
   "id": "7ffe76f2",
   "metadata": {},
   "source": [
    "# Example desription - load multiple particles snapshot\n",
    "Below is shown how to load particle data for multiple snapshots. \n",
    "\n",
    "In the example data only 1 snapshot contains particles, snap 110, so we set both i_start and i_end to that. \n",
    "\n",
    "It outputs the following arrays:\n",
    "\n",
    "- times: The time of each snapshot\n",
    "- all_q: The integer index (within each patch) of all particles\n",
    "- all_r: The float index (within each cell) of all particles\n",
    "- all_w: The weight of all particles\n",
    "- all_e: The energy of all particles\n",
    "- all_nr: The \"number\" of all particles (only used in simple test cases - there are some problems in MPI runs with duplicates)\n",
    "- all_pos: The global cartesian position of all particles\n",
    "- all_ids: The patch id of all particles (Also mainly used for diagnostic)\n",
    "\n",
    "All particle variables are structued as arr[snap][species][3,n] or arr[snap][species][n], depending on if the variable is a vector or a scalar. \n",
    "\n",
    "Here snap is the snapshot, species is either electrons or protons (usually electrons in index 1 and protons in index 2), and \"n\" is the number of particles of that species in the snapshot. "
   ]
  },
  {
   "cell_type": "code",
   "execution_count": 9,
   "id": "88719fc1",
   "metadata": {},
   "outputs": [],
   "source": [
    "times, all_q, all_r, all_p, all_w, all_e, all_nr, all_pos, all_ids = load_multiple_snapshots_particles(data_folder, i_start, i_end, stride);"
   ]
  }
 ],
 "metadata": {
  "kernelspec": {
   "display_name": "Julia 1.11.5",
   "language": "julia",
   "name": "julia-1.11"
  },
  "language_info": {
   "file_extension": ".jl",
   "mimetype": "application/julia",
   "name": "julia",
   "version": "1.11.5"
  }
 },
 "nbformat": 4,
 "nbformat_minor": 5
}
