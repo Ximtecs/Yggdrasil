{
 "cells": [
  {
   "cell_type": "code",
   "execution_count": 1,
   "id": "79357bd9",
   "metadata": {},
   "outputs": [],
   "source": [
    "include(\"../../src/Yggdrasil.jl\")\n",
    "using .Yggdrasil"
   ]
  },
  {
   "cell_type": "code",
   "execution_count": 2,
   "id": "90978cec",
   "metadata": {},
   "outputs": [],
   "source": [
    "data_folder = \"../example_data/test_01/\"\n",
    "\n",
    "#-------------- get meta information on initial snapshot --------------\n",
    "snap = 101                                        # Number of the snapshot\n",
    "initial_snap = read_snapshot(data_folder, snap)   # Load initial snapshot meta\n",
    "IDX = initial_snap.IDX                            # Variables index information\n",
    "system = initial_snap.SYSTEM;                     # Unit system\n",
    "#-----------------------------------------------------------------------------\n",
    "\n",
    "#--------------- define which snapshot to load ---------------\n",
    "i_start = 110   # Start snapshot index\n",
    "i_end  = 110    # End snapshot index\n",
    "stride = 1      # Stride - how many snapshots to skip between loads\n",
    "n_snaps = Int(floor( (i_end - i_start) / stride) + 1)  # total number of snapshots to load\n",
    "load_pic = false; # If true, will only load PIC patch data"
   ]
  },
  {
   "cell_type": "code",
   "execution_count": null,
   "id": "88719fc1",
   "metadata": {},
   "outputs": [
    {
     "ename": "UndefVarError",
     "evalue": "UndefVarError: `load_multple_snapshot_particles` not defined in `Main`\nSuggestion: check for spelling errors or missing imports.",
     "output_type": "error",
     "traceback": [
      "UndefVarError: `load_multple_snapshot_particles` not defined in `Main`\n",
      "Suggestion: check for spelling errors or missing imports.\n",
      "\n",
      "Stacktrace:\n",
      " [1] top-level scope\n",
      "   @ ~/Yggdrasil/examples/dispatch_io/jl_notebook_cell_df34fa98e69747e1a8f8a730347b8e2f_W2sdnNjb2RlLXJlbW90ZQ==.jl:1"
     ]
    }
   ],
   "source": [
    "times, all_q, all_r, all_p, all_w, all_e, all_nr, all_pos, all_ids = load_multiple_snapshots_particles(data_folder, i_start, i_end, stride)\n"
   ]
  }
 ],
 "metadata": {
  "kernelspec": {
   "display_name": "Julia 1.11.5",
   "language": "julia",
   "name": "julia-1.11"
  },
  "language_info": {
   "file_extension": ".jl",
   "mimetype": "application/julia",
   "name": "julia",
   "version": "1.11.5"
  }
 },
 "nbformat": 4,
 "nbformat_minor": 5
}
