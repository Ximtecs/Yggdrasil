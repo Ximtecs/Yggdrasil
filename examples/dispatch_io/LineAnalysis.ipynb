{
 "cells": [
  {
   "cell_type": "code",
   "execution_count": null,
   "id": "fe6593c3",
   "metadata": {},
   "outputs": [],
   "source": [
    "include(\"../../src/Yggdrasil.jl\")\n",
    "using .Yggdrasil"
   ]
  },
  {
   "cell_type": "code",
   "execution_count": null,
   "id": "0e505de6",
   "metadata": {},
   "outputs": [],
   "source": [
    "midpoint = [16.27207,  0.0, 6.1138]\n",
    "û     = [0.707, 0.0, -0.68]\n",
    "num_points = 50\n",
    "\n",
    "n̂     = [0.0, 1.0, 0.0]\n",
    "half_length = 0.3 # on either side of the line\n",
    "half_width  = 0.2 # on either side of the line\n",
    "n_perp = 50;"
   ]
  },
  {
   "cell_type": "code",
   "execution_count": null,
   "id": "8c934bf3",
   "metadata": {},
   "outputs": [],
   "source": [
    "#------------------ get points along a line ------------------\n",
    "# midpoint: Center of the line\n",
    "# û: Direction vector of the line\n",
    "# half_length: Half the length of the line segment (on either side of midpoint)\n",
    "# num_points: Total number of points to generate along the line segment \n",
    "line = get_line(midpoint,\n",
    "                  û,\n",
    "                  half_length,\n",
    "                  num_points);"
   ]
  },
  {
   "cell_type": "code",
   "execution_count": null,
   "id": "7544a516",
   "metadata": {},
   "outputs": [],
   "source": [
    "#----------- get a 2D plane around a line --------------------------------\n",
    "#  midpoint: Center of the line\n",
    "#  û: Direction vector of the line\n",
    "#  n̂: Normal vector to the plane\n",
    "#  half_length: Half the length of the line segment (on either side of midpoint)\n",
    "#  half_width: Half the width of the plane (on either side of the line)\n",
    "#  n_perp: Number of points perpendicular to the line\n",
    "#  n_par (optional): Number of points parallel to the line\n",
    "#                   If not provided, it will be calculated based on the ratio of half_length to half_width\n",
    "#                   and the number of perpendicular points to have roughly equal spacing.\n",
    "n_par = 50 # Optional, can be set to `nothing` to auto-calculate\n",
    "line, perp_vals, par_vals, Δpar, Δperp, grid = generate_line_plane(midpoint,\n",
    "                                                                    û,\n",
    "                                                                    n̂,\n",
    "                                                                    half_length,\n",
    "                                                                    half_width,\n",
    "                                                                    n_perp; \n",
    "                                                                    n_par = n_par);"
   ]
  },
  {
   "cell_type": "code",
   "execution_count": null,
   "id": "cf6d2295",
   "metadata": {},
   "outputs": [],
   "source": [
    "#----------- get a 2D plane around a line --------------------------------\n",
    "#  midpoint: Center of the line\n",
    "#  û: Direction vector of the line\n",
    "#  n̂: Normal vector to the plane\n",
    "#  half_length: Half the length of the line segment (on either side of midpoint)\n",
    "#  half_width: Half the width of the plane (on either side of the line)\n",
    "#  n_perp: Number of points perpendicular to the line\n",
    "#         here n_par is not provided, it will be calculated so Δpar≈Δperp\n",
    "line, perp_vals, par_vals, Δpar, Δperp, grid = generate_line_plane(midpoint,\n",
    "                                                                    û,\n",
    "                                                                    n̂,\n",
    "                                                                    half_length,\n",
    "                                                                    half_width,\n",
    "                                                                    n_perp);"
   ]
  },
  {
   "cell_type": "code",
   "execution_count": null,
   "id": "6909c1aa",
   "metadata": {},
   "outputs": [],
   "source": [
    "data_folder = \"../example_data/test_01/\"    # experiment folder \n",
    "snap = 105                                  # snapshot number to load\n",
    "ref_level = 3                               # load from the second level (refinement level 1)\n",
    "load_pic = false;                           # if true only PIC patches are loaded, otherwise load MHD patches\n",
    "\n",
    "\n",
    "\n",
    "\n",
    "Snap_meta = read_snapshot(data_folder, snap)   # Load initial snapshot meta\n",
    "IDX = Snap_meta.IDX\n",
    "level_min = Snap_meta.LEVELMIN\n",
    "level = level_min + ref_level     #\n",
    "\n",
    "\n",
    "i_start = 101\n",
    "i_end = 105\n",
    "stride = 1\n",
    "\n",
    "#------------ Get area defined by LLC and URC aligned with patches --------------   \n",
    "    #------------- define midpoint of area and number of patches\n",
    "    midpoint = [16.27207,  0.0, 6.1138]\n",
    "    patches = 6\n",
    "    #-----------------------------------------------------\n",
    "llc, urc, llc_pos, urc_pos  = get_area(Snap_meta, midpoint, patches, level);\n",
    "\n",
    "#----------- load data\n",
    "# 3 deifferent load functions are used to illustrate line analysis\n",
    "# 1. data_rho - loads density data for a single snapshot\n",
    "# 2. data_var - loads all variables for a single snapshot\n",
    "# 3. data_mul - loads all variables for multiple snapshots\n",
    "data_rho = load_snapshot(Snap_meta, load_pic, llc, urc, \"rho\", use_level=level);\n",
    "data_var = load_snapshot(Snap_meta, load_pic, llc, urc, use_level=level);\n",
    "data_mul, times = load_multiple_snapshots(data_folder, \n",
    "                                      i_start, i_end, stride, \n",
    "                                      llc, urc,\n",
    "                                      load_pic; \n",
    "                                      use_level=level)\n",
    "println(\"Size of data_rho : \", size(data_rho))\n",
    "println(\"Size of data_var : \", size(data_var))\n",
    "println(\"Size of data_mul : \", size(data_mul))"
   ]
  },
  {
   "cell_type": "code",
   "execution_count": null,
   "id": "1506de7c",
   "metadata": {},
   "outputs": [],
   "source": [
    "drop_dims = false\n",
    "x,y,z,ds = get_xyz(Snap_meta, drop_dims, level; llc=llc, urc=urc); # for a subdomain defined by lower left corner (llc) and upper right corner (urc)\n",
    "x_vals = x[:,1, 1]   # 1D arrays for interpolation\n",
    "y_vals = y[1, :, 1]  # 1D arrays for interpolation\n",
    "z_vals = z[1, 1, :]; # 1D arrays for interpolation"
   ]
  },
  {
   "cell_type": "code",
   "execution_count": null,
   "id": "b4698e84",
   "metadata": {},
   "outputs": [],
   "source": [
    "#---------- interpolate data along the line ------------------------\n",
    "line_interp_rho = interpolate_to_line(data_rho, x_vals, y_vals, z_vals, line);\n",
    "line_interp_var = interpolate_to_line(data_var, x_vals, y_vals, z_vals, line);\n",
    "line_interp_mul = interpolate_to_line(data_mul, x_vals, y_vals, z_vals, line);\n",
    "println(\"Size of line_interp_rho: \", size(line_interp_rho))\n",
    "println(\"Size of line_interp_var: \", size(line_interp_var))\n",
    "println(\"Size of line_interp_mul: \", size(line_interp_mul))"
   ]
  },
  {
   "cell_type": "code",
   "execution_count": null,
   "id": "4e06706f",
   "metadata": {},
   "outputs": [],
   "source": [
    "plane_interp_rho = interpolate_to_plane(data_rho, x_vals, y_vals, z_vals, grid);\n",
    "plane_interp_var = interpolate_to_plane(data_var, x_vals, y_vals, z_vals, grid);\n",
    "plane_interp_mul = interpolate_to_plane(data_mul, x_vals, y_vals, z_vals, grid);\n",
    "println(\"Size of plane_interp_rho: \", size(plane_interp_rho))\n",
    "println(\"Size of plane_interp_var: \", size(plane_interp_var))\n",
    "println(\"Size of plane_interp_mul: \", size(plane_interp_mul))\n"
   ]
  },
  {
   "cell_type": "code",
   "execution_count": null,
   "id": "c0823723",
   "metadata": {},
   "outputs": [],
   "source": [
    "#------------------ convert momentum to velocity ------------------------\n",
    "# For 2D, 3D, and 4D arrays, assumes that variables are in the last dimension\n",
    "# For 5D arrays, assumes that variables are in second to last dimension\n",
    "# var_idx is optional and can be used if variable dimension must be specified\n",
    "mom_to_vel!(plane_interp_var, IDX);\n",
    "mom_to_vel!(plane_interp_mul, IDX; var_idx=3);"
   ]
  },
  {
   "cell_type": "code",
   "execution_count": null,
   "id": "fdd923a7",
   "metadata": {},
   "outputs": [],
   "source": [
    "#------------- rotate vectors to be aligned with the plane --------------\n",
    "#  the default is that \n",
    "#            - parallel component replaces \"x\" component\n",
    "#            - perpendicular component replaces \"y\" component\n",
    "#            - normal component replaces \"z\" component\n",
    "# This can be overwritten by specifying `component_order`\n",
    "# in this case, since the plane is xz it would make sense to have the normal \n",
    "#     component in the y direction, since y IS normal to the plane\n",
    "#     e.i. we leave y component as it is and only rotate x and z components\n",
    "\n",
    "# NOTE that this is done in-place, so the original data is modified\n",
    "\n",
    "# default component order is (:par, :norm, :perp)\n",
    "#rotate_aligned_vectors!(plane_interp_var, û, n̂, IDX)\n",
    "\n",
    "# call with custom component order\n",
    "rotate_aligned_vectors!(plane_interp_var, û, n̂, IDX; \n",
    "                component_order = (:par, :norm, :perp))\n"
   ]
  },
  {
   "cell_type": "code",
   "execution_count": null,
   "id": "02e82a4c",
   "metadata": {},
   "outputs": [],
   "source": [
    "#  the call assumes variable indices are in last dimension for 2D and 3D arrays\n",
    "#  for hihger dimensions it assumes that the variable indices are in the second to last dimension\n",
    "#  variable index can also be specified with `var_idx` argument\n",
    "\n",
    "#rotate_aligned_vectors!(data_var, û, n̂, IDX; \n",
    "#            component_order = (:par, :norm, :perp),\n",
    "#            var_idx = 4)"
   ]
  },
  {
   "cell_type": "markdown",
   "id": "fb1592d9",
   "metadata": {},
   "source": [
    "# Possible future extension\n",
    "\n",
    "- generate_line_box (3D box with new coordinates)\n"
   ]
  }
 ],
 "metadata": {
  "kernelspec": {
   "display_name": "Julia 1.11.5",
   "language": "julia",
   "name": "julia-1.11"
  },
  "language_info": {
   "file_extension": ".jl",
   "mimetype": "application/julia",
   "name": "julia",
   "version": "1.11.5"
  }
 },
 "nbformat": 4,
 "nbformat_minor": 5
}
