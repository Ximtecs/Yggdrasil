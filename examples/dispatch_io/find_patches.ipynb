{
 "cells": [
  {
   "cell_type": "code",
   "metadata": {},
   "source": [
    "include(\"../../src/Yggdrasil.jl\")\n",
    "using .Yggdrasil\n",
    "using PyPlot\n"
   ],
   "outputs": [],
   "execution_count": null
  },
  {
   "cell_type": "markdown",
   "metadata": {},
   "source": [
    "# Find patches\n",
    "Examples of locating patches intersected by a line and by a square in the xz-plane."
   ]
  },
  {
   "cell_type": "markdown",
   "metadata": {},
   "source": [
    "## Setup"
   ]
  },
  {
   "cell_type": "code",
   "metadata": {},
   "source": [
    "data_folder = \"../example_data/test_01/\"\n",
    "snap = 105\n",
    "Snapshot_meta = read_snapshot(data_folder, snap)\n"
   ],
   "outputs": [],
   "execution_count": null
  },
  {
   "cell_type": "markdown",
   "metadata": {},
   "source": [
    "## Patches intersected by a line"
   ]
  },
  {
   "cell_type": "code",
   "metadata": {},
   "source": [
    "start_point = [0.0, 0.0, 0.0]\n",
    "end_point = [1.0, 1.0, 1.0]\n",
    "patches_line = find_patches_line(Snapshot_meta, start_point, end_point; all_levels=true)\n",
    "println(\"Found \" * string(length(patches_line)) * \" patches\")\n",
    "figure()\n",
    "for p in patches_line\n",
    "    c = p.LLC_NAT .+ p.SIZE ./ 2\n",
    "    scatter(c[1], c[3], color=\"C0\")\n",
    "end\n",
    "plot([start_point[1], end_point[1]], [start_point[3], end_point[3]], color=\"C1\")\n",
    "xlabel(\"x\"); ylabel(\"z\"); title(\"Line intersection\")\n",
    "grid(true)\n"
   ],
   "outputs": [],
   "execution_count": null
  },
  {
   "cell_type": "markdown",
   "metadata": {},
   "source": [
    "## Patches within an xz square"
   ]
  },
  {
   "cell_type": "code",
   "metadata": {},
   "source": [
    "midpoint = [0.5, 0.5, 0.5]\n",
    "patches = 1\n",
    "level = Snapshot_meta.LEVELMIN\n",
    "_, _, llc_pos, urc_pos = get_area(Snapshot_meta, midpoint, patches, level)\n",
    "square = [\n",
    "    llc_pos,\n",
    "    [urc_pos[1], llc_pos[2], llc_pos[3]],\n",
    "    urc_pos,\n",
    "    [llc_pos[1], llc_pos[2], urc_pos[3]],\n",
    "]\n",
    "patches_square = find_patches_square(Snapshot_meta, square; all_levels=true)\n",
    "println(\"Found \" * string(length(patches_square)) * \" patches\")\n",
    "figure()\n",
    "for p in patches_square\n",
    "    c = p.LLC_NAT .+ p.SIZE ./ 2\n",
    "    scatter(c[1], c[3], color=\"C0\")\n",
    "end\n",
    "xs = [llc_pos[1], urc_pos[1], urc_pos[1], llc_pos[1], llc_pos[1]]\n",
    "zs = [llc_pos[3], llc_pos[3], urc_pos[3], urc_pos[3], llc_pos[3]]\n",
    "plot(xs, zs, color=\"C1\")\n",
    "xlabel(\"x\"); ylabel(\"z\"); title(\"Square intersection\")\n",
    "grid(true)\n"
   ],
   "outputs": [],
   "execution_count": null
  }
 ],
 "metadata": {
  "kernelspec": {
   "display_name": "Julia 1.11.5",
   "language": "julia",
   "name": "julia-1.11"
  },
  "language_info": {
   "file_extension": ".jl",
   "mimetype": "application/julia",
   "name": "julia",
   "version": "1.11.5"
  }
 }
}