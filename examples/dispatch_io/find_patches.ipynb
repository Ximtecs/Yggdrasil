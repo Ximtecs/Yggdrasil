{
 "cells": [
  {
   "cell_type": "code",
   "execution_count": null,
   "metadata": {},
   "outputs": [],
   "source": [
    "include(\"../../src/Yggdrasil.jl\")\n",
    "using .Yggdrasil"
   ]
  },
  {
   "cell_type": "markdown",
   "metadata": {},
   "source": [
    "# Find patches\n",
    "Examples of locating patches intersected by a line and by a square in the xz-plane."
   ]
  },
  {
   "cell_type": "markdown",
   "metadata": {},
   "source": [
    "## Setup"
   ]
  },
  {
   "cell_type": "code",
   "execution_count": null,
   "metadata": {},
   "outputs": [],
   "source": [
    "data_folder = \"../example_data/test_01/\"\n",
    "snap = 105\n",
    "Snap_meta = read_snapshot(data_folder, snap)\n",
    "IDX = Snap_meta.IDX\n",
    "level_min = Snap_meta.LEVELMIN;"
   ]
  },
  {
   "cell_type": "code",
   "execution_count": null,
   "id": "e5bfd3a3",
   "metadata": {},
   "outputs": [],
   "source": [
    "midpoint = [16.27207,  0.0, 6.1138]\n",
    "û     = [0.707, 0.0, -0.68]\n",
    "num_points = 50\n",
    "\n",
    "n̂     = [0.0, 1.0, 0.0]\n",
    "half_length = 0.3 # on either side of the line\n",
    "half_width  = 0.2 # on either side of the line\n",
    "n_perp = 50;\n",
    "\n",
    "\n",
    "line = get_line(midpoint,\n",
    "                  û,\n",
    "                  half_length,\n",
    "                  num_points);\n",
    "\n",
    "start_point = line[1]\n",
    "end_point = line[end]\n",
    "\n",
    "patches = 2\n",
    "llc, urc, llc_pos, urc_pos  = get_area(Snap_meta, midpoint, patches, level_min);\n"
   ]
  },
  {
   "cell_type": "markdown",
   "metadata": {},
   "source": [
    "## Patches intersected by a line"
   ]
  },
  {
   "cell_type": "code",
   "execution_count": null,
   "metadata": {},
   "outputs": [],
   "source": [
    "#--------------- find pathes along a line at specific level ---------------\n",
    "level = level_min + 1\n",
    "patches_line = find_patches_line(Snap_meta, start_point, end_point; level=level, all_levels=false)\n",
    "println(\"Found \" * string(length(patches_line)) * \" patches\")\n",
    "\n",
    "#--------------- find pathes along a line at all levels ---------------\n",
    "patches_line = find_patches_line(Snap_meta, start_point, end_point; all_levels=true)\n",
    "println(\"Found \" * string(length(patches_line)) * \" patches\")\n"
   ]
  },
  {
   "cell_type": "markdown",
   "metadata": {},
   "source": [
    "## Patches within an xz square"
   ]
  },
  {
   "cell_type": "code",
   "execution_count": null,
   "metadata": {},
   "outputs": [],
   "source": [
    "square = [\n",
    "    llc_pos,\n",
    "    [urc_pos[1], llc_pos[2], llc_pos[3]],\n",
    "    [llc_pos[1], llc_pos[2], urc_pos[3]],\n",
    "    urc_pos,\n",
    "]\n",
    "#--------------- find pathes in a square at specific level ---------------\n",
    "patches_square = find_patches_square(Snap_meta, square; level=level_min+0)\n",
    "println(\"Found \" * string(length(patches_square)) * \" patches\")\n",
    "\n",
    "#--------------- find pathes in a square at all levels ---------------\n",
    "patches_square = find_patches_square(Snap_meta, square; all_levels=true)\n",
    "println(\"Found \" * string(length(patches_square)) * \" patches\")\n"
   ]
  }
 ],
 "metadata": {
  "kernelspec": {
   "display_name": "Julia 1.11.5",
   "language": "julia",
   "name": "julia-1.11"
  },
  "language_info": {
   "file_extension": ".jl",
   "mimetype": "application/julia",
   "name": "julia",
   "version": "1.11.5"
  }
 },
 "nbformat": 4,
 "nbformat_minor": 5
}
