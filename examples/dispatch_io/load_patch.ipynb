{
 "cells": [
  {
   "cell_type": "code",
   "execution_count": null,
   "id": "30db2093",
   "metadata": {},
   "outputs": [],
   "source": [
    "include(\"../../src/Yggdrasil.jl\")\n",
    "using .Yggdrasil"
   ]
  },
  {
   "cell_type": "markdown",
   "id": "21162fd8",
   "metadata": {},
   "source": [
    "# Example desription - load patch\n",
    "Below is shown how to load a patch or multiple patches. \n",
    "All calls use the same function \"load_patch\". Using multiple dispatch, different function calls are avaiable to:\n",
    "\n",
    "- load all varibles for a single patch\n",
    "- load 1 varialbe for a single patch\n",
    "- load multiple varialbes for a single patch\n",
    "- load all variables for multiple patches\n",
    "- load 1 variable for multiple patches\n",
    "- load multiple variables for multiple patches\n"
   ]
  },
  {
   "cell_type": "code",
   "execution_count": null,
   "id": "af904d72",
   "metadata": {},
   "outputs": [],
   "source": [
    "data_folder = \"../example_data/test_01/\"\n",
    "snap = 105\n",
    "Snapshot_meta = read_snapshot(data_folder, snap);"
   ]
  },
  {
   "cell_type": "code",
   "execution_count": null,
   "id": "fd644593",
   "metadata": {},
   "outputs": [],
   "source": [
    "#----------- Load all variables for a single patch ---------------------\n",
    "#---------- The output data will be (ix,iy,iz,iv)\n",
    "patch_ID = 5\n",
    "patch_data = load_patch(Snapshot_meta, patch_ID);\n",
    "println(size(patch_data))\n",
    "#----------------------------------------------------------------------"
   ]
  },
  {
   "cell_type": "code",
   "execution_count": null,
   "id": "1046de1b",
   "metadata": {},
   "outputs": [],
   "source": [
    "#----------- load all variables for multiple patches -------------------\n",
    "#---------- The output data will be (ix,iy,iz,iv, patch)\n",
    "#---------- the last index will be sorted in the same order as patch_IDS \n",
    "patch_IDS = [5,3]\n",
    "data = load_patch(Snapshot_meta, patch_IDS);\n",
    "println(size(data))"
   ]
  },
  {
   "cell_type": "code",
   "execution_count": null,
   "id": "ae9aaca3",
   "metadata": {},
   "outputs": [],
   "source": [
    "#----------- Load a single variable for a single patch ---------------------\n",
    "#---------- The output data will be (ix,iy,iz)\n",
    "patch_ID = 104\n",
    "var = \"rho\" # Variable name - must be defined in get_idx_value function\n",
    "data = load_patch(Snapshot_meta, patch_ID, var);\n",
    "println(size(data))"
   ]
  },
  {
   "cell_type": "code",
   "execution_count": null,
   "id": "8ca105eb",
   "metadata": {},
   "outputs": [],
   "source": [
    "#----------- load all variables for multiple patches -------------------\n",
    "#---------- The output data will be (ix,iy,iz, patch)\n",
    "#---------- the last index will be sorted in the same order as patch_IDS \n",
    "patch_IDS = [105,104]\n",
    "var = \"rho\" # Variable name - must be defined in get_idx_value function\n",
    "data = load_patch(Snapshot_meta, patch_IDS, var);\n",
    "println(size(data))"
   ]
  },
  {
   "cell_type": "code",
   "execution_count": null,
   "id": "4d8183c9",
   "metadata": {},
   "outputs": [],
   "source": [
    "#----------- Load multiple variables for a single patch ---------------------\n",
    "#----------- output with be a dictonary with the variable name as key\n",
    "#---------- The value for each will be structured as (ix,iy,iz)\n",
    "patch_ID = 104\n",
    "vars = [\"rho\", \"e\"] # other ex \n",
    "data = load_patch(Snapshot_meta, patch_ID, vars);\n",
    "println(size(data[\"e\"]))"
   ]
  },
  {
   "cell_type": "code",
   "execution_count": null,
   "id": "da3f8555",
   "metadata": {},
   "outputs": [],
   "source": [
    "#----------- load multiple variables for multiple patches -------------------\n",
    "#----------- output with be a dictonary with the variable name as key\n",
    "#---------- The value for each will be structured as (ix,iy,iz,patch)\n",
    "#---------- the last index will be sorted in the same order as patch_IDS \n",
    "patch_IDS = [104,102, 105, 109]\n",
    "vars = [\"rho\",\"energy\"] # other ex \n",
    "data = load_patch(Snapshot_meta, patch_IDS, vars);\n",
    "println(size(data[\"energy\"]))"
   ]
  },
  {
   "cell_type": "code",
   "execution_count": null,
   "id": "b13f45f9",
   "metadata": {},
   "outputs": [],
   "source": [
    "#--------------- get patch meta information -------------------\n",
    "# get patch meta data\n",
    "patch_ID = 5\n",
    "patch_meta = find_patch(Snapshot_meta, patch_ID)\n",
    "print_info(patch_meta)"
   ]
  },
  {
   "cell_type": "code",
   "execution_count": null,
   "id": "52bd80cc",
   "metadata": {},
   "outputs": [],
   "source": [
    "#--------------- get patch meta information for multiple patches -------------------\n",
    "# get patch meta data\n",
    "patch_ID = [10, 5, 100]\n",
    "patch_meta = find_patch(Snapshot_meta, patch_ID)\n",
    "print_info(patch_meta[2])"
   ]
  }
 ],
 "metadata": {
  "kernelspec": {
   "display_name": "Julia 1.11.5",
   "language": "julia",
   "name": "julia-1.11"
  },
  "language_info": {
   "file_extension": ".jl",
   "mimetype": "application/julia",
   "name": "julia",
   "version": "1.11.5"
  }
 },
 "nbformat": 4,
 "nbformat_minor": 5
}
