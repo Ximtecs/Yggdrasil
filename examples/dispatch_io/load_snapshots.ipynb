{
 "cells": [
  {
   "cell_type": "code",
   "execution_count": 1,
   "id": "62811ddd",
   "metadata": {},
   "outputs": [],
   "source": [
    "include(\"../../src/Yggdrasil.jl\")\n",
    "using .Yggdrasil"
   ]
  },
  {
   "cell_type": "code",
   "execution_count": 9,
   "id": "3912eee6",
   "metadata": {},
   "outputs": [],
   "source": [
    "data_folder = \"../example_data/test_01/\"\n",
    "\n",
    "#-------------- get meta information on initial snapshot --------------\n",
    "snap = 101                                        # Number of the snapshot\n",
    "initial_snap = read_snapshot(data_folder, snap)   # Load initial snapshot meta\n",
    "IDX = initial_snap.IDX                            # Index information\n",
    "system = initial_snap.SYSTEM;                     # Unit system\n",
    "#-----------------------------------------------------------------------------\n",
    "\n",
    "#--------------- define which snapshot to load ---------------\n",
    "i_start = 101   # Start snapshot index\n",
    "i_end  = 110    # End snapshot index\n",
    "stride = 1      # Stride - how many snapshots to skip between loads\n",
    "n_snaps = Int(floor( (i_end - i_start) / stride) + 1)  # total number of snapshots to load\n",
    "load_pic = false; # If true, will only load PIC patch data"
   ]
  },
  {
   "cell_type": "markdown",
   "id": "e4583a04",
   "metadata": {},
   "source": [
    "# Example desription - load multiple snapshot\n",
    "Below is shown first how to load multiple snapshots into a data and times array. \n",
    "This is the simplest way to load multiple snapshots. For 1D and 2D experiment, using the \"drop_units_dims\" removes the collapsed dimensions from the array. \n",
    "\n",
    "Next is shown how to get the cartesian coordinates for the snapshot data.\n",
    "\n",
    "The function works by first inspecting the meta information in the snapshot. From this a global array to include all data is constructed. It is assumed that patches are in a cartesian geometry"
   ]
  },
  {
   "cell_type": "code",
   "execution_count": null,
   "id": "0fe481e6",
   "metadata": {},
   "outputs": [],
   "source": [
    "#---------------------- simplest way to load snapshots ----------------------\n",
    "data, times = load_multiple_snapshots(data_folder,             # folder input \n",
    "                                      i_start, i_end, stride,  # snapshot range\n",
    "                                      load_pic)                # load PIC or MHD\n",
    "data = drop_unit_dims(data); # Drop array dimension with size 1. \n",
    "# NOTE if only 1 snapshot is loadded it will also collapse the \"time\" dimension"
   ]
  },
  {
   "cell_type": "code",
   "execution_count": null,
   "id": "95b293a3",
   "metadata": {},
   "outputs": [],
   "source": [
    "drop_dims = true  # drops array dimension with size 1 in the cartesian coordinates\n",
    "x,y,z,ds = get_xyz(initial_snap, drop_dims);         # Get the x, y, z coordinates and dataset from the initial snapshot"
   ]
  },
  {
   "cell_type": "markdown",
   "id": "0e07dfc8",
   "metadata": {},
   "source": [
    "# Example desription - load multiple snapshot in area\n",
    "Below is shown how to load only an area of a snapshot, and can be used to fetch information at different resolutions. \n",
    "\n",
    "It requires first the definition of an area, which can most easily be done using the \"get_area\" function. This function calculates the lower left corner (LLC) and upper right corner (URC) based on a midpoint, a number of patches, and the level to load. The level is set by the \"ref_level\" constant. \n",
    "\n",
    "The function calculates the LLC and URC in integer indices based on the distance to the simulation LLC, and with the cell size defined by the level. It aligns the LLC and URC so they are located with the nearest patch border. \n",
    "\n",
    "This version is useful to optimize load time and memory usage, especially when working with AMR setups, or large simulations. \n",
    "\n",
    "\n",
    "Similar to the simple case, we can load the cartesian x,y,z coordinates using the \"get_xyz\" function"
   ]
  },
  {
   "cell_type": "code",
   "execution_count": null,
   "id": "cafbdb6a",
   "metadata": {},
   "outputs": [],
   "source": [
    "#------------ Get area defined by LLC and URC aligned with patches --------------   \n",
    "    #------------ set refinement level -------------------\n",
    "    ref_level = 3  # zero meants no refiment (coarsest grid level)\n",
    "    #-----------------------------------------------------\n",
    "    #----------- set level based on refinement level -----------\n",
    "    level_min = initial_snap.LEVELMIN\n",
    "    level = level_min + ref_level \n",
    "    #-----------------------------------------------------\n",
    "    #------------- define midpoint of area and number of patches\n",
    "    midpoint = [16.27207,  0.0, 6.1138]\n",
    "    patches = 4\n",
    "    #-----------------------------------------------------\n",
    "llc, urc, llc_pos, urc_pos  = get_area(initial_snap, midpoint, patches, level);"
   ]
  },
  {
   "cell_type": "code",
   "execution_count": null,
   "id": "f5da023d",
   "metadata": {},
   "outputs": [],
   "source": [
    "#------------ Get area defined by LLC and URC aligned with patches --------------   \n",
    "    #------------ set refinement level -------------------\n",
    "    ref_level = 3  # zero meants no refiment (coarsest grid level)\n",
    "    #-----------------------------------------------------\n",
    "    #----------- set level based on refinement level -----------\n",
    "    level_min = initial_snap.LEVELMIN\n",
    "    level = level_min + ref_level \n",
    "    #-----------------------------------------------------\n",
    "    #------------- define midpoint of area and number of patches\n",
    "    midpoint = [16.27207,  0.0, 6.1138]\n",
    "    patches = 4\n",
    "    #-----------------------------------------------------\n",
    "llc, urc, llc_pos, urc_pos  = get_area(initial_snap, midpoint, patches, level);\n",
    "#---------------------------------------------------------------------------------\n",
    "#---------------------- load snapshots in the area ----------------------\n",
    "#--------- first get cartesian coordinates for the area -----------\n",
    "drop_dims = true  # drops array dimension with size 1 in the cartesian coordinates\n",
    "    #--------- in example 2D case, y dimension is collapse, so we can ignore it like this \n",
    "x,_,z,ds = get_xyz(initial_snap, true, level; llc=llc, urc=urc);\n",
    "#-------------------------------------------------------------------\n",
    "    # optional get 1D coordinates for x and z\n",
    "x_vals = x[:, 1]\n",
    "z_vals = z[1, :];\n",
    "#-------------------------------------------------------------------\n",
    "\n",
    "#---------------- load snapshot data in the area ----------------------\n",
    "data, times = load_multiple_snapshots(data_folder, \n",
    "                                      i_start, i_end, stride, \n",
    "                                      llc, urc,\n",
    "                                      load_pic; \n",
    "                                      use_level=level)\n",
    "data = drop_unit_dims(data);\n",
    "#-------------------------------------------------------------------\n"
   ]
  }
 ],
 "metadata": {
  "kernelspec": {
   "display_name": "Julia 1.11.5",
   "language": "julia",
   "name": "julia-1.11"
  },
  "language_info": {
   "file_extension": ".jl",
   "mimetype": "application/julia",
   "name": "julia",
   "version": "1.11.5"
  }
 },
 "nbformat": 4,
 "nbformat_minor": 5
}
