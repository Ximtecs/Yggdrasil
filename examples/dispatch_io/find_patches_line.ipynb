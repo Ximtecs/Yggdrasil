{
 "cells": [
  {
   "cell_type": "code",
   "execution_count": null,
   "id": "12345678",
   "metadata": {},
   "outputs": [],
   "source": [
    "include(\"../../src/Yggdrasil.jl\")\n",
    "using .Yggdrasil"
   ]
  },
  {
   "cell_type": "markdown",
   "id": "23456789",
   "metadata": {},
   "source": [
    "# Find patches intersected by a line\n",
    "This example shows how to use `find_patches_line` to locate patches that intersect a line segment." 
   ]
  },
  {
   "cell_type": "code",
   "execution_count": null,
   "id": "34567890",
   "metadata": {},
   "outputs": [],
   "source": [
    "data_folder = \"../example_data/test_01/\"\n",
    "snap = 105\n",
    "Snapshot_meta = read_snapshot(data_folder, snap)\n",
    "start_point = [0.0, 0.0, 0.0]\n",
    "end_point = [1.0, 1.0, 1.0]\n",
    "patches = find_patches_line(Snapshot_meta, start_point, end_point)\n",
    "println(\"Found \" * string(length(patches)) * \" patches\")"
   ]
  }
 ],
 "metadata": {
  "kernelspec": {
   "display_name": "Julia 1.11.5",
   "language": "julia",
   "name": "julia-1.11"
  },
  "language_info": {
   "file_extension": ".jl",
   "mimetype": "application/julia",
   "name": "julia",
   "version": "1.11.5"
  }
 },
 "nbformat": 4,
 "nbformat_minor": 5
}
