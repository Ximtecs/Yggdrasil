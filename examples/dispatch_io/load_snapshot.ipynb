{
 "cells": [
  {
   "cell_type": "code",
   "execution_count": null,
   "id": "e58061a7",
   "metadata": {},
   "outputs": [],
   "source": [
    "include(\"../../src/Yggdrasil.jl\")\n",
    "using .Yggdrasil"
   ]
  },
  {
   "cell_type": "markdown",
   "id": "3a8db22d",
   "metadata": {},
   "source": [
    "# Example desription - load snapshot\n",
    "Below is shown different ways to load a single snapshot\n",
    "The default is to load all varialbes on the coursets level. \n",
    "\n",
    "Options include:\n",
    "- Load a all variables\n",
    "- Load a single variable\n",
    "- Load multiple variables\n",
    "- Loading only the \"First N\" variables\n",
    "- Load different levels\n",
    "- Load only subarea of the simulation\n",
    "- (and combinations of the above)"
   ]
  },
  {
   "cell_type": "code",
   "execution_count": null,
   "id": "e8bd2f97",
   "metadata": {},
   "outputs": [],
   "source": [
    "data_folder = \"../example_data/test_01/\"    # experiment folder \n",
    "snap = 105                                  # snapshot number to load\n",
    "ref_level = 1                               # load from the second level (refinement level 1)\n",
    "load_pic = false;                           # if true only PIC patches are loaded, otherwise load MHD patches\n",
    "\n",
    "\n",
    "\n",
    "\n",
    "Snap_meta = read_snapshot(data_folder, snap)   # Load initial snapshot meta\n",
    "level_min = Snap_meta.LEVELMIN\n",
    "level = level_min + ref_level     #\n",
    "\n",
    "\n",
    "#--------- Get coordinates for each cell in simulation  -----------\n",
    "drop_dims = true  # drops array dimension with size 1 in the cartesian coordinates\n",
    "#x,y,z,ds = get_xyz(Snap_meta, drop_dims, level); # for entire simulation domain at refinement level\n",
    "#x,y,z,ds = get_xyz(Snap_meta, drop_dims, level; llc=llc, urc=urc); # for a subdomain defined by lower left corner (llc) and upper right corner (urc)\n",
    "x,y,z,ds = get_xyz(Snap_meta, drop_dims, level_min); # for entire simulation domain at coursets level"
   ]
  },
  {
   "cell_type": "code",
   "execution_count": null,
   "id": "c96a2c14",
   "metadata": {},
   "outputs": [],
   "source": [
    "#----------------- load snapshot data -------------------\n",
    "# default will load all varialbes for all patches in the coarsest level\n",
    "data = load_snapshot(Snap_meta, load_pic);\n",
    "println(\"Size of data: \", size(data))\n",
    "#---------- optional drop collapsed dimensions -----------\n",
    "data = drop_unit_dims(data)\n",
    "println(\"Size of data: \", size(data))"
   ]
  },
  {
   "cell_type": "code",
   "execution_count": null,
   "id": "970174df",
   "metadata": {},
   "outputs": [],
   "source": [
    "#----------------- load single variable snapshot data -------------------\n",
    "# default will load the varialble for all patches in the coarsest level\n",
    "var = \"e\"\n",
    "data = load_snapshot(Snap_meta, load_pic, var);\n",
    "println(\"Size of data: \", size(data))"
   ]
  },
  {
   "cell_type": "code",
   "execution_count": null,
   "id": "41a97737",
   "metadata": {},
   "outputs": [],
   "source": [
    "#----------------- load multiple variable snapshot data -------------------\n",
    "# default will load the varialbles for all patches in the coarsest level\n",
    "# data will be a a Dictionary with variable names as keys\n",
    "vars = [\"e\", \"rho\"]\n",
    "data = load_snapshot(Snap_meta, load_pic, vars);\n",
    "println(\"Size of data: \", size(data[\"e\"]))"
   ]
  },
  {
   "cell_type": "code",
   "execution_count": null,
   "id": "5d503365",
   "metadata": {},
   "outputs": [],
   "source": [
    "#----------------- load First_N variable snapshot data -------------------\n",
    "# Works similar to multiple variables, but loads into an array instaed of a Dictionary.\n",
    "#       this speeds to the process up, but is less flexible\n",
    "First_N = 8\n",
    "data = load_snapshot(Snap_meta, load_pic, First_N);\n",
    "println(\"Size of data: \", size(data))"
   ]
  },
  {
   "cell_type": "code",
   "execution_count": null,
   "id": "23871c72",
   "metadata": {},
   "outputs": [],
   "source": [
    "#----------------- load snapshot data -------------------\n",
    "# Will load all variables on the given level\n",
    "# NOTE that it will make a grid to cover the entire simulation domain\n",
    "#      even if fine level only covers a small part of the domain\n",
    "#      \n",
    "#      This should generally not be used except for debugging purposes - instead use below routines to get only area\n",
    "data = load_snapshot(Snap_meta, load_pic; use_level=level);\n",
    "println(\"Size of data: \", size(data))"
   ]
  },
  {
   "cell_type": "code",
   "execution_count": null,
   "id": "47f852e1",
   "metadata": {},
   "outputs": [],
   "source": [
    "#------------ Get area defined by LLC and URC aligned with patches --------------   \n",
    "# NOTE - the get_area function properly handles collopsed dimensions\n",
    "#       but, there is limited error checking if area extends beyond the simulation domain\n",
    "\n",
    "# in all version below for the given level, the area will be the same. \n",
    "\n",
    "    #------------- define midpoint of area and number of patches\n",
    "    midpoint = [16.27207,  0.0, 6.1138]\n",
    "    patches = 4\n",
    "    #-----------------------------------------------------\n",
    "llc, urc, llc_pos, urc_pos  = get_area(Snap_meta, midpoint, patches, level)\n",
    "\n",
    "# area can also be defined by size in each dimension\n",
    "area_size_arr = [2.0, 0.0, 2.0]  # size of area in each dimension\n",
    "llc, urc, llc_pos, urc_pos  = get_area(Snap_meta, midpoint, area_size_arr, level)\n",
    "\n",
    "\n",
    "# or by a single size (which is used in all dimensions)\n",
    "area_size = 2.0  # size of area in each dimension\n",
    "llc, urc, llc_pos, urc_pos  = get_area(Snap_meta, midpoint, area_size, level);"
   ]
  },
  {
   "cell_type": "code",
   "execution_count": null,
   "id": "01206c46",
   "metadata": {},
   "outputs": [],
   "source": [
    "#----------------- load snapshot data in area -------------------\n",
    "# Load data for a specific area defined by llc and urc\n",
    "# default will load all varialbes in the coarsest level\n",
    "data = load_snapshot(Snap_meta, load_pic, llc, urc);\n",
    "println(\"Size of data: \", size(data))"
   ]
  },
  {
   "cell_type": "code",
   "execution_count": null,
   "id": "fb3104f3",
   "metadata": {},
   "outputs": [],
   "source": [
    "#----------------- load snapshot data in area for given level -------------------\n",
    "# Load data for a specific area defined by llc and urc\n",
    "# use_level is given to load data on a specific level\n",
    "# Note that size of data is the same as above, but the physical size is smaller\n",
    "data = load_snapshot(Snap_meta, load_pic, llc, urc, use_level=level);\n",
    "println(\"Size of data: \", size(data))"
   ]
  },
  {
   "cell_type": "code",
   "execution_count": null,
   "id": "aecdc63d",
   "metadata": {},
   "outputs": [],
   "source": [
    "#----------------- load snapshot data in area for a single variable-------------------\n",
    "var = \"e\"\n",
    "data = load_snapshot(Snap_meta, load_pic, llc, urc, var; use_level=level);\n",
    "println(\"Size of data: \", size(data))"
   ]
  },
  {
   "cell_type": "code",
   "execution_count": null,
   "id": "3a902e0a",
   "metadata": {},
   "outputs": [],
   "source": [
    "#----------------- load snapshot data in area for multiple variables for a given level -------------------\n",
    "vars = [\"e\", \"rho\"]\n",
    "data = load_snapshot(Snap_meta, load_pic, llc, urc, vars; use_level=level);\n",
    "println(\"Size of data: \", size(data[\"e\"]))"
   ]
  },
  {
   "cell_type": "code",
   "execution_count": null,
   "id": "257ee88e",
   "metadata": {},
   "outputs": [],
   "source": [
    "#----------------- load First_N variable snapshot data -------------------\n",
    "# Works similar to multiple variables, but loads into an array instaed of a Dictionary.\n",
    "#       this speeds to the process up, but is less flexible\n",
    "First_N = 8\n",
    "data = load_snapshot(Snap_meta, load_pic, llc, urc, First_N; use_level=level);\n",
    "println(\"Size of data: \", size(data))"
   ]
  },
  {
   "cell_type": "markdown",
   "id": "e0e12705",
   "metadata": {},
   "source": [
    "# Possible future extensions\n",
    "(add example and remove point if implemented)\n",
    "- Load all levels in region"
   ]
  }
 ],
 "metadata": {
  "kernelspec": {
   "display_name": "Julia 1.11.5",
   "language": "julia",
   "name": "julia-1.11"
  },
  "language_info": {
   "file_extension": ".jl",
   "mimetype": "application/julia",
   "name": "julia",
   "version": "1.11.5"
  }
 },
 "nbformat": 4,
 "nbformat_minor": 5
}
