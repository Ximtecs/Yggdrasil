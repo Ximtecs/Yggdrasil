{
 "cells": [
  {
   "cell_type": "code",
   "execution_count": null,
   "id": "b7f09c60",
   "metadata": {},
   "outputs": [],
   "source": [
    "include(\"../../src/Yggdrasil.jl\")\n",
    "using .Yggdrasil"
   ]
  },
  {
   "cell_type": "code",
   "execution_count": null,
   "id": "5a1824fe",
   "metadata": {},
   "outputs": [],
   "source": [
    "data_folder = \"../example_data/test_01/\"    # experiment folder \n",
    "snap = 105                                  # snapshot number to load\n",
    "Snap_meta = read_snapshot(data_folder, snap)   # Load initial snapshot meta\n",
    "scaling_nml = Snap_meta.SCALING;"
   ]
  },
  {
   "cell_type": "code",
   "execution_count": null,
   "id": "78b9f1e3",
   "metadata": {},
   "outputs": [],
   "source": [
    "#----------- print scaling information -----------\n",
    "print_info(scaling_nml)"
   ]
  },
  {
   "cell_type": "code",
   "execution_count": null,
   "id": "d74806de",
   "metadata": {},
   "outputs": [],
   "source": [
    "#------------ convert DISPATCH scaling to Yggdrasil scaling structt ------------\n",
    "#     DISPATCH scaling only has limited info\n",
    "#     YGGDRASIL scaling strcut has more information \n",
    "#                           for exampple on plasma scales etc.\n",
    "#     NOTE - current conversion assumes to temperature scaling as this is not included in DISPATCH scaling nml\n",
    "scaling_meta = get_dispatch_scaling(Snap_meta)\n",
    "scaling = get_dispatch_scaling(scaling_nml);"
   ]
  },
  {
   "cell_type": "code",
   "execution_count": null,
   "id": "c386592a",
   "metadata": {},
   "outputs": [],
   "source": [
    "#----------- print Yggdrasil scaling information -----------\n",
    "print_basic_info(scaling)\n",
    "if scaling.system == \"HL\"\n",
    "    print_all_HL(scaling)\n",
    "elseif scaling.system == \"CGS\"\n",
    "    print_all_CGS(scaling)\n",
    "else\n",
    "    error(\"Unknown scaling system: $(scaling.system)\")\n",
    "end\n"
   ]
  }
 ],
 "metadata": {
  "kernelspec": {
   "display_name": "Julia 1.11.5",
   "language": "julia",
   "name": "julia-1.11"
  },
  "language_info": {
   "file_extension": ".jl",
   "mimetype": "application/julia",
   "name": "julia",
   "version": "1.11.5"
  }
 },
 "nbformat": 4,
 "nbformat_minor": 5
}
