{
 "cells": [
  {
   "cell_type": "code",
   "execution_count": null,
   "id": "913939f0",
   "metadata": {},
   "outputs": [],
   "source": [
    "include(\"../../src/Yggdrasil.jl\")\n",
    "using .Yggdrasil"
   ]
  },
  {
   "cell_type": "markdown",
   "id": "d3cb9755",
   "metadata": {},
   "source": [
    "# Example description\n",
    "\n",
    "This notebook has examples on how to plot line data in a single figure (no subplots). \n",
    "\n",
    "First, the example shows how to create two lines. Then data is loaded from a snapshot. The data is then interpolated to the lines. \n",
    "Next, the lines are plottet individually.\n",
    "\n",
    "Finally, the example shows how lines can be plotted together in a single figure. "
   ]
  },
  {
   "cell_type": "code",
   "execution_count": null,
   "id": "7784bf85",
   "metadata": {},
   "outputs": [],
   "source": [
    "midpoint = [16.27207,  0.0, 6.1138]\n",
    "û     = [0.707, 0.0, -0.68]\n",
    "û_perp = [û[1], û[2], -û[3]]\n",
    "num_points = 50\n",
    "\n",
    "n̂     = [0.0, 1.0, 0.0]\n",
    "half_length = 0.3 # on either side of the line\n",
    "half_width  = 0.2 # on either side of the line\n",
    "n_perp = 50;\n",
    "\n",
    "par_vals = range(-half_length, half_length, length=num_points)\n",
    "line_par= get_line(midpoint,\n",
    "                  û,\n",
    "                  half_length,\n",
    "                  num_points);\n",
    "\n",
    "\n",
    "perp_vals = range(-half_length, half_length, length=num_points)\n",
    "line_perp = get_line(midpoint,\n",
    "                  û_perp,\n",
    "                  half_length,\n",
    "                  num_points);\n"
   ]
  },
  {
   "cell_type": "code",
   "execution_count": null,
   "id": "37b038c9",
   "metadata": {},
   "outputs": [],
   "source": [
    "#---------------- define whhat data to load ----------------\n",
    "data_folder = \"../example_data/test_01/\"    # experiment folder \n",
    "snap = 105                                  # snapshot number to load\n",
    "ref_level = 3                               # load from the second level (refinement level 1)\n",
    "load_pic = false;                           # if true only PIC patches are loaded, otherwise load MHD patches\n",
    "\n",
    "#----------- load meta information ---------------------------\n",
    "Snap_meta = read_snapshot(data_folder, snap)   # Load initial snapshot meta\n",
    "IDX = Snap_meta.IDX\n",
    "level_min = Snap_meta.LEVELMIN\n",
    "level = level_min + ref_level     \n",
    "\n",
    "#----------------- get area to load --------------------------\n",
    "patches = 6\n",
    "llc, urc, llc_pos, urc_pos  = get_area(Snap_meta, midpoint, patches, level);\n",
    "\n",
    "#-------------- get coordiates ------------------------------\n",
    "drop_dims = false\n",
    "x,y,z,ds = get_xyz(Snap_meta, drop_dims, level; llc=llc, urc=urc); # for a subdomain defined by lower left corner (llc) and upper right corner (urc)\n",
    "x_vals = x[:,1, 1]   # 1D arrays for interpolation\n",
    "y_vals = y[1, :, 1]  # 1D arrays for interpolation\n",
    "z_vals = z[1, 1, :]; # 1D arrays for interpolation\n",
    "\n",
    "\n",
    "#----------------- load density for snapshot -------------------\n",
    "data_rho = load_snapshot(Snap_meta, load_pic, llc, urc, \"rho\", use_level=level);"
   ]
  },
  {
   "cell_type": "code",
   "execution_count": null,
   "id": "f1ebea98",
   "metadata": {},
   "outputs": [],
   "source": [
    "#----------------- interpolate along parallel and perpendicular lines -------------------\n",
    "rho_par =  interpolate_to_line(data_rho, x_vals, y_vals, z_vals, line_par);\n",
    "rho_perp = interpolate_to_line(data_rho, x_vals, y_vals, z_vals, line_perp);"
   ]
  },
  {
   "cell_type": "code",
   "execution_count": null,
   "id": "d761419e",
   "metadata": {},
   "outputs": [],
   "source": [
    "#----------------- simplest way to plot -------------------\n",
    "plot_line(rho_par)"
   ]
  },
  {
   "cell_type": "code",
   "execution_count": null,
   "id": "6b173ff6",
   "metadata": {},
   "outputs": [],
   "source": [
    "plot_line(rho_perp;\n",
    "    x_vals = perp_vals,\n",
    "    xlabel = \"d_perp [ Mm ]\",\n",
    "    ylabel = \"Density [ code units ]\",\n",
    "    title = \"Density along perpendicular line\",\n",
    "    marker = \"o\",\n",
    "    color = :blue,\n",
    "    label = \"density\",\n",
    "    legend = true\n",
    ")"
   ]
  },
  {
   "cell_type": "markdown",
   "id": "95a5cab3",
   "metadata": {},
   "source": [
    "## Plotting multiple lines in single figure"
   ]
  },
  {
   "cell_type": "code",
   "execution_count": null,
   "id": "5c66fc86",
   "metadata": {},
   "outputs": [],
   "source": [
    "#---------------- combine lines to a single 2D matrix for plotting -------------------\n",
    "comb = zeros(num_points, 2)\n",
    "comb[:, 1] = rho_par\n",
    "comb[:, 2] = rho_perp;\n",
    "\n",
    "#----------------- plot both lines in a single figure -------------------\n",
    "# here all lines are plotted. If only certain lines should be plotted\n",
    "#                             use the `indices` keyword argument\n",
    "plot_line(comb)"
   ]
  },
  {
   "cell_type": "code",
   "execution_count": null,
   "id": "2e210e62",
   "metadata": {},
   "outputs": [],
   "source": [
    "#----------- althernative plotting with some extra options -----------\n",
    "#- here the data is passed as a vector of vectors, where each vector corresponds to a line\n",
    "plot_line([rho_par, rho_perp];\n",
    "    x_all = [par_vals, perp_vals],\n",
    "    label_all = [\"rho_par\", \"rho_perp\"],\n",
    "    title = \"Density along parallel and perpendicular lines\",\n",
    "    xlabel = \"d [ Mm ]\",\n",
    "    ylabel = \"Density [ code units ]\"\n",
    ")"
   ]
  }
 ],
 "metadata": {
  "kernelspec": {
   "display_name": "Julia 1.11.5",
   "language": "julia",
   "name": "julia-1.11"
  },
  "language_info": {
   "file_extension": ".jl",
   "mimetype": "application/julia",
   "name": "julia",
   "version": "1.11.5"
  }
 },
 "nbformat": 4,
 "nbformat_minor": 5
}
