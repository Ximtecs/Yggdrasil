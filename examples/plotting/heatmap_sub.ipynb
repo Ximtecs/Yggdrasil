{
 "cells": [
  {
   "cell_type": "code",
   "execution_count": null,
   "id": "90a3cbba",
   "metadata": {},
   "outputs": [],
   "source": [
    "include(\"../../src/Yggdrasil.jl\")\n",
    "using .Yggdrasil"
   ]
  },
  {
   "cell_type": "code",
   "execution_count": null,
   "id": "6ebe6abe",
   "metadata": {},
   "outputs": [],
   "source": [
    "data_folder = \"../example_data/test_01/\"\n",
    "\n",
    "#-------------- get meta information on initial snapshot --------------\n",
    "snap = 101                                        # Number of the snapshot\n",
    "initial_snap = read_snapshot(data_folder, snap)   # Load initial snapshot meta\n",
    "IDX = initial_snap.IDX                            # Variables index information\n",
    "system = initial_snap.SYSTEM;                     # Unit system\n",
    "#-----------------------------------------------------------------------------\n",
    "\n",
    "#--------------- define which snapshot to load ---------------\n",
    "i_start = 101   # Start snapshot index\n",
    "i_end  = 110    # End snapshot index\n",
    "stride = 1      # Stride - how many snapshots to skip between loads\n",
    "n_snaps = Int(floor( (i_end - i_start) / stride) + 1)  # total number of snapshots to load\n",
    "load_pic = false; # If true, will only load PIC patch data\n",
    "\n",
    "#------------ Get area defined by LLC and URC aligned with patches --------------   \n",
    "    #------------ set refinement level -------------------\n",
    "    ref_level = 3  # zero meants no refiment (coarsest grid level)\n",
    "    #-----------------------------------------------------\n",
    "    #----------- set level based on refinement level -----------\n",
    "    level_min = initial_snap.LEVELMIN\n",
    "    level = level_min + ref_level \n",
    "    #-----------------------------------------------------\n",
    "    #------------- define midpoint of area and number of patches\n",
    "    midpoint = [16.27207,  0.0, 6.1138]\n",
    "    patches = 4\n",
    "    #-----------------------------------------------------\n",
    "llc, urc, llc_pos, urc_pos  = get_area(initial_snap, midpoint, patches, level);\n",
    "#---------------------- load snapshots in the area ----------------------\n",
    "#--------- first get cartesian coordinates for the area -----------\n",
    "drop_dims = true  # drops array dimension with size 1 in the cartesian coordinates\n",
    "    #--------- in example 2D case, y dimension is collapse, so we can ignore it like this \n",
    "x,_,z,ds = get_xyz(initial_snap, true, level; llc=llc, urc=urc);\n",
    "#-------------------------------------------------------------------\n",
    "    # optional get 1D coordinates for x and z\n",
    "x_vals = x[:, 1]\n",
    "z_vals = z[1, :];\n",
    "#-------------------------------------------------------------------\n",
    "\n",
    "#---------------- load snapshot data in the area ----------------------\n",
    "data, times = load_multiple_snapshots(data_folder, \n",
    "                                      i_start, i_end, stride, \n",
    "                                      llc, urc,\n",
    "                                      load_pic; \n",
    "                                      use_level=level);"
   ]
  },
  {
   "cell_type": "code",
   "execution_count": null,
   "id": "9c2f4e6b",
   "metadata": {},
   "outputs": [],
   "source": [
    "#----------- simplest way to plot subplot with heatmaps -----------\n",
    "# data must be 3D array with dimensions (x, z, variables)\n",
    "# must specify number of rows and columns for the heatmap grid\n",
    "# must specify the variable indeces to plot in the heatmaps\n",
    "\n",
    "#--------------- reformat data as 3D array ---------------\n",
    "timeslot = 1\n",
    "data_drop = drop_unit_dims(data)\n",
    "data_time = data_drop[:,:,:,timeslot]\n",
    "#------------------------------------------------------------\n",
    "#------------ specify number of rows and columns for the heatmap grid ------------\n",
    "nrows = 2\n",
    "ncols = 2\n",
    "#----------------------------------------------------------------------------------\n",
    "#----------------- specify indices to plot in the heatmaps -----------------\n",
    "#------ indices go by column first, then row \n",
    "#      this correspond to   [  1,    2\n",
    "#                             3,    4,]\n",
    "indices = [1,2,4,5];\n",
    "#---------------------------------------------------------------------------\n",
    "#----------------- plot heatmaps -----------------\n",
    "plot_heatmaps(data_time, nrows, ncols, indices)"
   ]
  },
  {
   "cell_type": "code",
   "execution_count": null,
   "id": "fd068233",
   "metadata": {},
   "outputs": [],
   "source": [
    "#-------------- further kwargs for the heatmaps --------------\n",
    "# kwargs can be specified either for ALL subplots of for individual subplots\n",
    "# for individual use the '_all' suffix. Here the input must be an array of the same length as the number of subplots\n",
    "# Example used here:\n",
    "#        x is specified, so it is used for all subplots\n",
    "#        y is specified, so it is used for all subplots\n",
    "#        title_all is specified - this is individual titles for each subplot\n",
    "#        xlabel and ylabel are specified - these are used for all subplots\n",
    "titles = [\"densiy\", \"mom x\", \"mom z\", \"energi\"]\n",
    "plot_heatmaps(data_time, nrows, ncols, indices;\n",
    "        x = x_vals, y = z_vals,\n",
    "        title_all = titles,\n",
    "        xlabel = \"x [ Mm ]\",\n",
    "        ylabel = \"z [ Mm ]\" )"
   ]
  },
  {
   "cell_type": "code",
   "execution_count": null,
   "id": "49c5dc11",
   "metadata": {},
   "outputs": [],
   "source": [
    "#-------------- further kwargs for the heatmaps --------------\n",
    "# another exaple of using x_all instead of x\n",
    "titles = [\"densiy\", \"mom x\", \"mom z\", \"energi\"]\n",
    "x_values = [x_vals, x_vals, x_vals, x_vals]\n",
    "plot_heatmaps(data_time, nrows, ncols, indices;\n",
    "        x_all = x_values, y = z_vals)"
   ]
  },
  {
   "cell_type": "code",
   "execution_count": null,
   "id": "077d683b",
   "metadata": {},
   "outputs": [],
   "source": [
    "#-------------- Example of improper function call --------------\n",
    "# Here both 'x' and 'x_all' are specified, which is not allowed\n",
    "titles = [\"densiy\", \"mom x\", \"mom z\", \"energi\"]\n",
    "x_values = [x_vals, x_vals, x_vals, x_vals]\n",
    "plot_heatmaps(data_time, nrows, ncols, indices;\n",
    "        x_all = x_values, y = z_vals,\n",
    "        x = x_vals)"
   ]
  },
  {
   "cell_type": "markdown",
   "id": "07693804",
   "metadata": {},
   "source": [
    "## Plotting for 4D matrices"
   ]
  },
  {
   "cell_type": "code",
   "execution_count": null,
   "id": "45b8d7ce",
   "metadata": {},
   "outputs": [],
   "source": [
    "#----------- p\n",
    "data_drop = drop_unit_dims(data);"
   ]
  },
  {
   "cell_type": "code",
   "execution_count": null,
   "id": "8ade2f8a",
   "metadata": {},
   "outputs": [],
   "source": [
    "#-------------- plot different variables at the same time --------------\n",
    "indices = [1,2,4,5]\n",
    "timeslot = 5\n",
    "plot_heatmaps(data_drop, nrows, ncols, indices, timeslot)"
   ]
  },
  {
   "cell_type": "code",
   "execution_count": null,
   "id": "5ebdf411",
   "metadata": {},
   "outputs": [],
   "source": [
    "#-------------- plot the same variable at different times --------------\n",
    "nrows = 2\n",
    "ncols = 2\n",
    "indices = 1\n",
    "timeslot = [1,4,5,10]\n",
    "plot_heatmaps(data_drop, nrows, ncols, indices, timeslot)"
   ]
  },
  {
   "cell_type": "code",
   "execution_count": null,
   "id": "220afd4e",
   "metadata": {},
   "outputs": [],
   "source": [
    "#-------------- plot different variables at at different times --------------\n",
    "nrows = 2\n",
    "ncols = 2\n",
    "indices = [1,1,2,2]\n",
    "timeslot = [1,10,1,10]\n",
    "plot_heatmaps(data_drop, nrows, ncols, indices, timeslot)"
   ]
  }
 ],
 "metadata": {
  "kernelspec": {
   "display_name": "Julia 1.11.5",
   "language": "julia",
   "name": "julia-1.11"
  },
  "language_info": {
   "file_extension": ".jl",
   "mimetype": "application/julia",
   "name": "julia",
   "version": "1.11.5"
  }
 },
 "nbformat": 4,
 "nbformat_minor": 5
}
